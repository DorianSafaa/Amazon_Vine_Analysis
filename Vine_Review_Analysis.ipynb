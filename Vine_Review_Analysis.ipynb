{
 "cells": [
  {
   "cell_type": "code",
   "execution_count": 1,
   "id": "396d6274",
   "metadata": {},
   "outputs": [],
   "source": [
    "import pandas as pd"
   ]
  },
  {
   "cell_type": "code",
   "execution_count": 5,
   "id": "ee0ba3e7",
   "metadata": {},
   "outputs": [
    {
     "data": {
      "text/html": [
       "<div>\n",
       "<style scoped>\n",
       "    .dataframe tbody tr th:only-of-type {\n",
       "        vertical-align: middle;\n",
       "    }\n",
       "\n",
       "    .dataframe tbody tr th {\n",
       "        vertical-align: top;\n",
       "    }\n",
       "\n",
       "    .dataframe thead th {\n",
       "        text-align: right;\n",
       "    }\n",
       "</style>\n",
       "<table border=\"1\" class=\"dataframe\">\n",
       "  <thead>\n",
       "    <tr style=\"text-align: right;\">\n",
       "      <th></th>\n",
       "      <th>review_id</th>\n",
       "      <th>star_rating</th>\n",
       "      <th>helpful_votes</th>\n",
       "      <th>total_votes</th>\n",
       "      <th>vine</th>\n",
       "      <th>verified_purchase</th>\n",
       "    </tr>\n",
       "  </thead>\n",
       "  <tbody>\n",
       "    <tr>\n",
       "      <th>0</th>\n",
       "      <td>R1XMZEVXUOOLE9</td>\n",
       "      <td>1</td>\n",
       "      <td>0</td>\n",
       "      <td>0</td>\n",
       "      <td>N</td>\n",
       "      <td>N</td>\n",
       "    </tr>\n",
       "    <tr>\n",
       "      <th>1</th>\n",
       "      <td>R2Q199J975YG4</td>\n",
       "      <td>5</td>\n",
       "      <td>0</td>\n",
       "      <td>1</td>\n",
       "      <td>N</td>\n",
       "      <td>Y</td>\n",
       "    </tr>\n",
       "    <tr>\n",
       "      <th>2</th>\n",
       "      <td>R1KOBCC3V6X5XF</td>\n",
       "      <td>1</td>\n",
       "      <td>0</td>\n",
       "      <td>0</td>\n",
       "      <td>N</td>\n",
       "      <td>Y</td>\n",
       "    </tr>\n",
       "    <tr>\n",
       "      <th>3</th>\n",
       "      <td>R1T5GM8819UJOQ</td>\n",
       "      <td>5</td>\n",
       "      <td>2</td>\n",
       "      <td>2</td>\n",
       "      <td>N</td>\n",
       "      <td>Y</td>\n",
       "    </tr>\n",
       "    <tr>\n",
       "      <th>4</th>\n",
       "      <td>RMJ1368NQUQH6</td>\n",
       "      <td>5</td>\n",
       "      <td>1</td>\n",
       "      <td>1</td>\n",
       "      <td>N</td>\n",
       "      <td>Y</td>\n",
       "    </tr>\n",
       "  </tbody>\n",
       "</table>\n",
       "</div>"
      ],
      "text/plain": [
       "        review_id  star_rating  helpful_votes  total_votes vine  \\\n",
       "0  R1XMZEVXUOOLE9            1              0            0    N   \n",
       "1   R2Q199J975YG4            5              0            1    N   \n",
       "2  R1KOBCC3V6X5XF            1              0            0    N   \n",
       "3  R1T5GM8819UJOQ            5              2            2    N   \n",
       "4   RMJ1368NQUQH6            5              1            1    N   \n",
       "\n",
       "  verified_purchase  \n",
       "0                 N  \n",
       "1                 Y  \n",
       "2                 Y  \n",
       "3                 Y  \n",
       "4                 Y  "
      ]
     },
     "execution_count": 5,
     "metadata": {},
     "output_type": "execute_result"
    }
   ],
   "source": [
    "vine_df=pd.read_csv(\"vine.csv\")\n",
    "vine_df.head()"
   ]
  },
  {
   "cell_type": "code",
   "execution_count": 7,
   "id": "f1b39cc8",
   "metadata": {},
   "outputs": [
    {
     "data": {
      "text/html": [
       "<div>\n",
       "<style scoped>\n",
       "    .dataframe tbody tr th:only-of-type {\n",
       "        vertical-align: middle;\n",
       "    }\n",
       "\n",
       "    .dataframe tbody tr th {\n",
       "        vertical-align: top;\n",
       "    }\n",
       "\n",
       "    .dataframe thead th {\n",
       "        text-align: right;\n",
       "    }\n",
       "</style>\n",
       "<table border=\"1\" class=\"dataframe\">\n",
       "  <thead>\n",
       "    <tr style=\"text-align: right;\">\n",
       "      <th></th>\n",
       "      <th>review_id</th>\n",
       "      <th>star_rating</th>\n",
       "      <th>helpful_votes</th>\n",
       "      <th>total_votes</th>\n",
       "      <th>vine</th>\n",
       "      <th>verified_purchase</th>\n",
       "    </tr>\n",
       "  </thead>\n",
       "  <tbody>\n",
       "    <tr>\n",
       "      <th>75</th>\n",
       "      <td>R1RB46N2W4MJHV</td>\n",
       "      <td>5</td>\n",
       "      <td>27</td>\n",
       "      <td>27</td>\n",
       "      <td>N</td>\n",
       "      <td>Y</td>\n",
       "    </tr>\n",
       "    <tr>\n",
       "      <th>381</th>\n",
       "      <td>R34D1X6KVGOGD2</td>\n",
       "      <td>3</td>\n",
       "      <td>20</td>\n",
       "      <td>25</td>\n",
       "      <td>N</td>\n",
       "      <td>Y</td>\n",
       "    </tr>\n",
       "    <tr>\n",
       "      <th>715</th>\n",
       "      <td>R2SN6PFYOM6XXX</td>\n",
       "      <td>5</td>\n",
       "      <td>64</td>\n",
       "      <td>76</td>\n",
       "      <td>N</td>\n",
       "      <td>Y</td>\n",
       "    </tr>\n",
       "    <tr>\n",
       "      <th>766</th>\n",
       "      <td>R1R1794PDTUXLZ</td>\n",
       "      <td>5</td>\n",
       "      <td>54</td>\n",
       "      <td>55</td>\n",
       "      <td>N</td>\n",
       "      <td>N</td>\n",
       "    </tr>\n",
       "    <tr>\n",
       "      <th>1219</th>\n",
       "      <td>ROI00QN8IS49I</td>\n",
       "      <td>5</td>\n",
       "      <td>83</td>\n",
       "      <td>91</td>\n",
       "      <td>N</td>\n",
       "      <td>N</td>\n",
       "    </tr>\n",
       "  </tbody>\n",
       "</table>\n",
       "</div>"
      ],
      "text/plain": [
       "           review_id  star_rating  helpful_votes  total_votes vine  \\\n",
       "75    R1RB46N2W4MJHV            5             27           27    N   \n",
       "381   R34D1X6KVGOGD2            3             20           25    N   \n",
       "715   R2SN6PFYOM6XXX            5             64           76    N   \n",
       "766   R1R1794PDTUXLZ            5             54           55    N   \n",
       "1219   ROI00QN8IS49I            5             83           91    N   \n",
       "\n",
       "     verified_purchase  \n",
       "75                   Y  \n",
       "381                  Y  \n",
       "715                  Y  \n",
       "766                  N  \n",
       "1219                 N  "
      ]
     },
     "execution_count": 7,
     "metadata": {},
     "output_type": "execute_result"
    }
   ],
   "source": [
    "#Retrieve all the rows where the total_votes count is equal to or greater than 20\n",
    "vine_df_geaterthan20 = vine_df[vine_df.total_votes>=20]\n",
    "vine_df_geaterthan20.head()"
   ]
  },
  {
   "cell_type": "code",
   "execution_count": 8,
   "id": "c666a997",
   "metadata": {},
   "outputs": [
    {
     "data": {
      "text/html": [
       "<div>\n",
       "<style scoped>\n",
       "    .dataframe tbody tr th:only-of-type {\n",
       "        vertical-align: middle;\n",
       "    }\n",
       "\n",
       "    .dataframe tbody tr th {\n",
       "        vertical-align: top;\n",
       "    }\n",
       "\n",
       "    .dataframe thead th {\n",
       "        text-align: right;\n",
       "    }\n",
       "</style>\n",
       "<table border=\"1\" class=\"dataframe\">\n",
       "  <thead>\n",
       "    <tr style=\"text-align: right;\">\n",
       "      <th></th>\n",
       "      <th>review_id</th>\n",
       "      <th>star_rating</th>\n",
       "      <th>helpful_votes</th>\n",
       "      <th>total_votes</th>\n",
       "      <th>vine</th>\n",
       "      <th>verified_purchase</th>\n",
       "    </tr>\n",
       "  </thead>\n",
       "  <tbody>\n",
       "    <tr>\n",
       "      <th>75</th>\n",
       "      <td>R1RB46N2W4MJHV</td>\n",
       "      <td>5</td>\n",
       "      <td>27</td>\n",
       "      <td>27</td>\n",
       "      <td>N</td>\n",
       "      <td>Y</td>\n",
       "    </tr>\n",
       "    <tr>\n",
       "      <th>381</th>\n",
       "      <td>R34D1X6KVGOGD2</td>\n",
       "      <td>3</td>\n",
       "      <td>20</td>\n",
       "      <td>25</td>\n",
       "      <td>N</td>\n",
       "      <td>Y</td>\n",
       "    </tr>\n",
       "    <tr>\n",
       "      <th>715</th>\n",
       "      <td>R2SN6PFYOM6XXX</td>\n",
       "      <td>5</td>\n",
       "      <td>64</td>\n",
       "      <td>76</td>\n",
       "      <td>N</td>\n",
       "      <td>Y</td>\n",
       "    </tr>\n",
       "    <tr>\n",
       "      <th>766</th>\n",
       "      <td>R1R1794PDTUXLZ</td>\n",
       "      <td>5</td>\n",
       "      <td>54</td>\n",
       "      <td>55</td>\n",
       "      <td>N</td>\n",
       "      <td>N</td>\n",
       "    </tr>\n",
       "    <tr>\n",
       "      <th>1219</th>\n",
       "      <td>ROI00QN8IS49I</td>\n",
       "      <td>5</td>\n",
       "      <td>83</td>\n",
       "      <td>91</td>\n",
       "      <td>N</td>\n",
       "      <td>N</td>\n",
       "    </tr>\n",
       "  </tbody>\n",
       "</table>\n",
       "</div>"
      ],
      "text/plain": [
       "           review_id  star_rating  helpful_votes  total_votes vine  \\\n",
       "75    R1RB46N2W4MJHV            5             27           27    N   \n",
       "381   R34D1X6KVGOGD2            3             20           25    N   \n",
       "715   R2SN6PFYOM6XXX            5             64           76    N   \n",
       "766   R1R1794PDTUXLZ            5             54           55    N   \n",
       "1219   ROI00QN8IS49I            5             83           91    N   \n",
       "\n",
       "     verified_purchase  \n",
       "75                   Y  \n",
       "381                  Y  \n",
       "715                  Y  \n",
       "766                  N  \n",
       "1219                 N  "
      ]
     },
     "execution_count": 8,
     "metadata": {},
     "output_type": "execute_result"
    }
   ],
   "source": [
    "# Retrieve all the rows where the number of helpful_votes divided by total_votes is equal to or greater than 50%.\n",
    "vine_df_50 = vine_df_geaterthan20[vine_df_geaterthan20.helpful_votes/vine_df_geaterthan20.total_votes*100>=50]\n",
    "vine_df_50.head()"
   ]
  },
  {
   "cell_type": "code",
   "execution_count": 9,
   "id": "1e6043c1",
   "metadata": {},
   "outputs": [
    {
     "data": {
      "text/html": [
       "<div>\n",
       "<style scoped>\n",
       "    .dataframe tbody tr th:only-of-type {\n",
       "        vertical-align: middle;\n",
       "    }\n",
       "\n",
       "    .dataframe tbody tr th {\n",
       "        vertical-align: top;\n",
       "    }\n",
       "\n",
       "    .dataframe thead th {\n",
       "        text-align: right;\n",
       "    }\n",
       "</style>\n",
       "<table border=\"1\" class=\"dataframe\">\n",
       "  <thead>\n",
       "    <tr style=\"text-align: right;\">\n",
       "      <th></th>\n",
       "      <th>review_id</th>\n",
       "      <th>star_rating</th>\n",
       "      <th>helpful_votes</th>\n",
       "      <th>total_votes</th>\n",
       "      <th>vine</th>\n",
       "      <th>verified_purchase</th>\n",
       "    </tr>\n",
       "  </thead>\n",
       "  <tbody>\n",
       "    <tr>\n",
       "      <th>4078</th>\n",
       "      <td>R3N0XV9267NOXV</td>\n",
       "      <td>5</td>\n",
       "      <td>41</td>\n",
       "      <td>47</td>\n",
       "      <td>Y</td>\n",
       "      <td>N</td>\n",
       "    </tr>\n",
       "    <tr>\n",
       "      <th>11668</th>\n",
       "      <td>RSA6JQ346JZHZ</td>\n",
       "      <td>5</td>\n",
       "      <td>55</td>\n",
       "      <td>64</td>\n",
       "      <td>Y</td>\n",
       "      <td>Y</td>\n",
       "    </tr>\n",
       "    <tr>\n",
       "      <th>15257</th>\n",
       "      <td>R1FXF4HRMCLG4C</td>\n",
       "      <td>5</td>\n",
       "      <td>69</td>\n",
       "      <td>84</td>\n",
       "      <td>Y</td>\n",
       "      <td>N</td>\n",
       "    </tr>\n",
       "    <tr>\n",
       "      <th>16163</th>\n",
       "      <td>RCTBWC3II42MG</td>\n",
       "      <td>4</td>\n",
       "      <td>113</td>\n",
       "      <td>117</td>\n",
       "      <td>Y</td>\n",
       "      <td>N</td>\n",
       "    </tr>\n",
       "    <tr>\n",
       "      <th>30981</th>\n",
       "      <td>R15YCOJRBQ6GBM</td>\n",
       "      <td>3</td>\n",
       "      <td>28</td>\n",
       "      <td>36</td>\n",
       "      <td>Y</td>\n",
       "      <td>N</td>\n",
       "    </tr>\n",
       "  </tbody>\n",
       "</table>\n",
       "</div>"
      ],
      "text/plain": [
       "            review_id  star_rating  helpful_votes  total_votes vine  \\\n",
       "4078   R3N0XV9267NOXV            5             41           47    Y   \n",
       "11668   RSA6JQ346JZHZ            5             55           64    Y   \n",
       "15257  R1FXF4HRMCLG4C            5             69           84    Y   \n",
       "16163   RCTBWC3II42MG            4            113          117    Y   \n",
       "30981  R15YCOJRBQ6GBM            3             28           36    Y   \n",
       "\n",
       "      verified_purchase  \n",
       "4078                  N  \n",
       "11668                 Y  \n",
       "15257                 N  \n",
       "16163                 N  \n",
       "30981                 N  "
      ]
     },
     "execution_count": 9,
     "metadata": {},
     "output_type": "execute_result"
    }
   ],
   "source": [
    "# Retrieve all the rows where a review was written as part of the Vine program (paid)\n",
    "vine_df_paid = vine_df_50[vine_df_50.vine=='Y']\n",
    "vine_df_paid.head()"
   ]
  },
  {
   "cell_type": "code",
   "execution_count": 10,
   "id": "bdcdb762",
   "metadata": {},
   "outputs": [
    {
     "data": {
      "text/html": [
       "<div>\n",
       "<style scoped>\n",
       "    .dataframe tbody tr th:only-of-type {\n",
       "        vertical-align: middle;\n",
       "    }\n",
       "\n",
       "    .dataframe tbody tr th {\n",
       "        vertical-align: top;\n",
       "    }\n",
       "\n",
       "    .dataframe thead th {\n",
       "        text-align: right;\n",
       "    }\n",
       "</style>\n",
       "<table border=\"1\" class=\"dataframe\">\n",
       "  <thead>\n",
       "    <tr style=\"text-align: right;\">\n",
       "      <th></th>\n",
       "      <th>review_id</th>\n",
       "      <th>star_rating</th>\n",
       "      <th>helpful_votes</th>\n",
       "      <th>total_votes</th>\n",
       "      <th>vine</th>\n",
       "      <th>verified_purchase</th>\n",
       "    </tr>\n",
       "  </thead>\n",
       "  <tbody>\n",
       "    <tr>\n",
       "      <th>75</th>\n",
       "      <td>R1RB46N2W4MJHV</td>\n",
       "      <td>5</td>\n",
       "      <td>27</td>\n",
       "      <td>27</td>\n",
       "      <td>N</td>\n",
       "      <td>Y</td>\n",
       "    </tr>\n",
       "    <tr>\n",
       "      <th>381</th>\n",
       "      <td>R34D1X6KVGOGD2</td>\n",
       "      <td>3</td>\n",
       "      <td>20</td>\n",
       "      <td>25</td>\n",
       "      <td>N</td>\n",
       "      <td>Y</td>\n",
       "    </tr>\n",
       "    <tr>\n",
       "      <th>715</th>\n",
       "      <td>R2SN6PFYOM6XXX</td>\n",
       "      <td>5</td>\n",
       "      <td>64</td>\n",
       "      <td>76</td>\n",
       "      <td>N</td>\n",
       "      <td>Y</td>\n",
       "    </tr>\n",
       "    <tr>\n",
       "      <th>766</th>\n",
       "      <td>R1R1794PDTUXLZ</td>\n",
       "      <td>5</td>\n",
       "      <td>54</td>\n",
       "      <td>55</td>\n",
       "      <td>N</td>\n",
       "      <td>N</td>\n",
       "    </tr>\n",
       "    <tr>\n",
       "      <th>1219</th>\n",
       "      <td>ROI00QN8IS49I</td>\n",
       "      <td>5</td>\n",
       "      <td>83</td>\n",
       "      <td>91</td>\n",
       "      <td>N</td>\n",
       "      <td>N</td>\n",
       "    </tr>\n",
       "  </tbody>\n",
       "</table>\n",
       "</div>"
      ],
      "text/plain": [
       "           review_id  star_rating  helpful_votes  total_votes vine  \\\n",
       "75    R1RB46N2W4MJHV            5             27           27    N   \n",
       "381   R34D1X6KVGOGD2            3             20           25    N   \n",
       "715   R2SN6PFYOM6XXX            5             64           76    N   \n",
       "766   R1R1794PDTUXLZ            5             54           55    N   \n",
       "1219   ROI00QN8IS49I            5             83           91    N   \n",
       "\n",
       "     verified_purchase  \n",
       "75                   Y  \n",
       "381                  Y  \n",
       "715                  Y  \n",
       "766                  N  \n",
       "1219                 N  "
      ]
     },
     "execution_count": 10,
     "metadata": {},
     "output_type": "execute_result"
    }
   ],
   "source": [
    "# Retrieve all the rows where a review was written as part of the Vine program (paid)\n",
    "vine_df_nonpaid = vine_df_50[vine_df_50.vine=='N']\n",
    "vine_df_nonpaid.head()"
   ]
  },
  {
   "cell_type": "code",
   "execution_count": 20,
   "id": "143c494b",
   "metadata": {},
   "outputs": [
    {
     "data": {
      "text/plain": [
       "463"
      ]
     },
     "execution_count": 20,
     "metadata": {},
     "output_type": "execute_result"
    }
   ],
   "source": [
    "# Determine the total number of paid reviews\n",
    "total_paid_reviews = vine_df_paid[\"review_id\"].count()\n",
    "total_paid_reviews"
   ]
  },
  {
   "cell_type": "code",
   "execution_count": 21,
   "id": "02f83dd2",
   "metadata": {},
   "outputs": [
    {
     "data": {
      "text/plain": [
       "25094"
      ]
     },
     "execution_count": 21,
     "metadata": {},
     "output_type": "execute_result"
    }
   ],
   "source": [
    "# Determine the total number of non-paid reviews\n",
    "total_nonpaid_reviews = vine_df_nonpaid[\"review_id\"].count()\n",
    "total_nonpaid_reviews"
   ]
  },
  {
   "cell_type": "code",
   "execution_count": 22,
   "id": "111ad89f",
   "metadata": {},
   "outputs": [
    {
     "data": {
      "text/plain": [
       "202"
      ]
     },
     "execution_count": 22,
     "metadata": {},
     "output_type": "execute_result"
    }
   ],
   "source": [
    "# The number of 5-star paid reviews\n",
    "paid_5stars = vine_df_paid[vine_df_paid.star_rating==5]\n",
    "total_paid_5stars = paid_5stars[\"review_id\"].count()\n",
    "total_paid_5stars"
   ]
  },
  {
   "cell_type": "code",
   "execution_count": 23,
   "id": "5e079a18",
   "metadata": {},
   "outputs": [
    {
     "data": {
      "text/plain": [
       "12033"
      ]
     },
     "execution_count": 23,
     "metadata": {},
     "output_type": "execute_result"
    }
   ],
   "source": [
    "# The number of 5-star nonpaid reviews\n",
    "nonpaid_5stars = vine_df_nonpaid[vine_df_nonpaid.star_rating==5]\n",
    "total_nonpaid_5stars = nonpaid_5stars[\"review_id\"].count()\n",
    "total_nonpaid_5stars"
   ]
  },
  {
   "cell_type": "code",
   "execution_count": 24,
   "id": "a9939cdd",
   "metadata": {},
   "outputs": [
    {
     "data": {
      "text/plain": [
       "43.628509719222464"
      ]
     },
     "execution_count": 24,
     "metadata": {},
     "output_type": "execute_result"
    }
   ],
   "source": [
    "# The percentage of 5-star reviews for the paid review \n",
    "total_paid_5stars/total_paid_reviews*100"
   ]
  },
  {
   "cell_type": "code",
   "execution_count": 25,
   "id": "a8aa2a13",
   "metadata": {},
   "outputs": [
    {
     "data": {
      "text/plain": [
       "47.95170160197657"
      ]
     },
     "execution_count": 25,
     "metadata": {},
     "output_type": "execute_result"
    }
   ],
   "source": [
    "# The percentage of 5-star reviews for the nonpaid review \n",
    "total_nonpaid_5stars/total_nonpaid_reviews*100"
   ]
  }
 ],
 "metadata": {
  "kernelspec": {
   "display_name": "PythonData",
   "language": "python",
   "name": "pythondata"
  },
  "language_info": {
   "codemirror_mode": {
    "name": "ipython",
    "version": 3
   },
   "file_extension": ".py",
   "mimetype": "text/x-python",
   "name": "python",
   "nbconvert_exporter": "python",
   "pygments_lexer": "ipython3",
   "version": "3.7.11"
  }
 },
 "nbformat": 4,
 "nbformat_minor": 5
}
